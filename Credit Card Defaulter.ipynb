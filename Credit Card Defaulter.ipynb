{
 "cells": [
  {
   "cell_type": "markdown",
   "metadata": {},
   "source": [
    "# Importing Useful Libraries\n"
   ]
  },
  {
   "cell_type": "code",
   "execution_count": 21,
   "metadata": {},
   "outputs": [],
   "source": [
    "import pandas as pd\n",
    "import numpy as np\n",
    "import seaborn as sns\n",
    "from sklearn.model_selection import train_test_split\n",
    "from sklearn.tree import DecisionTreeClassifier\n",
    "from sklearn.preprocessing import MinMaxScaler\n",
    "\n",
    "\n",
    "\n",
    "\n"
   ]
  },
  {
   "cell_type": "markdown",
   "metadata": {},
   "source": [
    "# Creating Functions for Changing Numerical Data to Categorical Data"
   ]
  },
  {
   "cell_type": "code",
   "execution_count": 22,
   "metadata": {},
   "outputs": [],
   "source": [
    "def hasNone(x):\n",
    "    if(x=='None'):\n",
    "        return 1\n",
    "    \n",
    "def education_to_numeric(x):\n",
    "    if x=='Post Graduate':\n",
    "        return 3\n",
    "    if x=='Under Graduate':\n",
    "        return 2\n",
    "    if x=='Other':\n",
    "        return 1\n",
    "    if x=='Graduate':\n",
    "        return 0\n",
    "    if x=='None':\n",
    "        return 4\n",
    "    \n",
    "def occupation_to_numeric(x):\n",
    "    if x=='Professional':\n",
    "        return 3\n",
    "    if x=='Salaried':\n",
    "        return 2\n",
    "    if x=='Business':\n",
    "        return 1\n",
    "    if x=='Student':\n",
    "        return 0\n",
    "    if x=='None':\n",
    "        return 4\n",
    "    \n",
    "def gender_to_numeric(x):\n",
    "    if x=='Male':\n",
    "        return 1\n",
    "    if x=='Female':\n",
    "        return 2\n",
    "    if x=='None':\n",
    "        return 0\n",
    "    \n",
    "def organization_to_numeric(x):\n",
    "    if x=='None':\n",
    "        return 0\n",
    "    if x=='Tier 1':\n",
    "        return 1\n",
    "    if x=='Tier 2':\n",
    "        return 2\n",
    "    if x=='Tier 3':\n",
    "        return 3\n",
    "def seniority_to_numeric(x):\n",
    "    if x=='None':\n",
    "        return 0\n",
    "    if x=='Entry':\n",
    "        return 1\n",
    "    if x=='Mid-level 1':\n",
    "        return 2\n",
    "    if x=='Junior':\n",
    "        return 3  \n",
    "def house_to_numeric(x):\n",
    "    if x=='Family':\n",
    "        return 0\n",
    "    if x=='Rented':\n",
    "        return 1\n",
    "    if x=='Owned':\n",
    "        return 2\n",
    "    if x=='Company provided':\n",
    "        return 3\n",
    "    if x=='None':\n",
    "        return 4\n",
    "def vehicle_to_numeric(x):\n",
    "    if x=='None':\n",
    "        return 0\n",
    "    if x=='Four Wheeler':\n",
    "        return 1\n",
    "    if x=='Two Wheeler':\n",
    "        return 2\n",
    "def marital_to_numeric(x):\n",
    "    if x=='Married':\n",
    "        return 0\n",
    "    if x=='Single':\n",
    "        return 1\n",
    "    if x=='Other':\n",
    "        return 2\n",
    "    if x=='None':\n",
    "        return 3\n",
    "    \n"
   ]
  },
  {
   "cell_type": "markdown",
   "metadata": {},
   "source": [
    "# Exploring the Dataset"
   ]
  },
  {
   "cell_type": "code",
   "execution_count": 30,
   "metadata": {},
   "outputs": [
    {
     "data": {
      "text/html": [
       "<div>\n",
       "<style scoped>\n",
       "    .dataframe tbody tr th:only-of-type {\n",
       "        vertical-align: middle;\n",
       "    }\n",
       "\n",
       "    .dataframe tbody tr th {\n",
       "        vertical-align: top;\n",
       "    }\n",
       "\n",
       "    .dataframe thead th {\n",
       "        text-align: right;\n",
       "    }\n",
       "</style>\n",
       "<table border=\"1\" class=\"dataframe\">\n",
       "  <thead>\n",
       "    <tr style=\"text-align: right;\">\n",
       "      <th></th>\n",
       "      <th>age</th>\n",
       "      <th>gender</th>\n",
       "      <th>education</th>\n",
       "      <th>occupation</th>\n",
       "      <th>organization_type</th>\n",
       "      <th>seniority</th>\n",
       "      <th>annual_income</th>\n",
       "      <th>disposable_income</th>\n",
       "      <th>house_type</th>\n",
       "      <th>vehicle_type</th>\n",
       "      <th>marital_status</th>\n",
       "      <th>no_card</th>\n",
       "      <th>default</th>\n",
       "    </tr>\n",
       "  </thead>\n",
       "  <tbody>\n",
       "    <tr>\n",
       "      <th>0</th>\n",
       "      <td>19</td>\n",
       "      <td>Male</td>\n",
       "      <td>Graduate</td>\n",
       "      <td>Professional</td>\n",
       "      <td>None</td>\n",
       "      <td>None</td>\n",
       "      <td>186319</td>\n",
       "      <td>21625</td>\n",
       "      <td>Family</td>\n",
       "      <td>None</td>\n",
       "      <td>Married</td>\n",
       "      <td>0</td>\n",
       "      <td>1</td>\n",
       "    </tr>\n",
       "    <tr>\n",
       "      <th>1</th>\n",
       "      <td>18</td>\n",
       "      <td>Male</td>\n",
       "      <td>Under Graduate</td>\n",
       "      <td>Professional</td>\n",
       "      <td>None</td>\n",
       "      <td>None</td>\n",
       "      <td>277022</td>\n",
       "      <td>20442</td>\n",
       "      <td>Rented</td>\n",
       "      <td>None</td>\n",
       "      <td>Married</td>\n",
       "      <td>0</td>\n",
       "      <td>1</td>\n",
       "    </tr>\n",
       "    <tr>\n",
       "      <th>2</th>\n",
       "      <td>29</td>\n",
       "      <td>Male</td>\n",
       "      <td>Under Graduate</td>\n",
       "      <td>Salaried</td>\n",
       "      <td>None</td>\n",
       "      <td>Entry</td>\n",
       "      <td>348676</td>\n",
       "      <td>24404</td>\n",
       "      <td>Rented</td>\n",
       "      <td>None</td>\n",
       "      <td>Married</td>\n",
       "      <td>1</td>\n",
       "      <td>1</td>\n",
       "    </tr>\n",
       "    <tr>\n",
       "      <th>3</th>\n",
       "      <td>18</td>\n",
       "      <td>Male</td>\n",
       "      <td>Graduate</td>\n",
       "      <td>Student</td>\n",
       "      <td>None</td>\n",
       "      <td>None</td>\n",
       "      <td>165041</td>\n",
       "      <td>2533</td>\n",
       "      <td>Rented</td>\n",
       "      <td>None</td>\n",
       "      <td>Married</td>\n",
       "      <td>0</td>\n",
       "      <td>1</td>\n",
       "    </tr>\n",
       "    <tr>\n",
       "      <th>4</th>\n",
       "      <td>26</td>\n",
       "      <td>Male</td>\n",
       "      <td>Post Graduate</td>\n",
       "      <td>Salaried</td>\n",
       "      <td>None</td>\n",
       "      <td>Mid-level 1</td>\n",
       "      <td>348745</td>\n",
       "      <td>19321</td>\n",
       "      <td>Rented</td>\n",
       "      <td>None</td>\n",
       "      <td>Married</td>\n",
       "      <td>1</td>\n",
       "      <td>1</td>\n",
       "    </tr>\n",
       "  </tbody>\n",
       "</table>\n",
       "</div>"
      ],
      "text/plain": [
       "   age gender       education    occupation organization_type    seniority  \\\n",
       "0   19   Male        Graduate  Professional              None         None   \n",
       "1   18   Male  Under Graduate  Professional              None         None   \n",
       "2   29   Male  Under Graduate      Salaried              None        Entry   \n",
       "3   18   Male        Graduate       Student              None         None   \n",
       "4   26   Male   Post Graduate      Salaried              None  Mid-level 1   \n",
       "\n",
       "   annual_income  disposable_income house_type vehicle_type marital_status  \\\n",
       "0         186319              21625     Family         None        Married   \n",
       "1         277022              20442     Rented         None        Married   \n",
       "2         348676              24404     Rented         None        Married   \n",
       "3         165041               2533     Rented         None        Married   \n",
       "4         348745              19321     Rented         None        Married   \n",
       "\n",
       "   no_card  default  \n",
       "0        0        1  \n",
       "1        0        1  \n",
       "2        1        1  \n",
       "3        0        1  \n",
       "4        1        1  "
      ]
     },
     "execution_count": 30,
     "metadata": {},
     "output_type": "execute_result"
    }
   ],
   "source": [
    "df=pd.read_csv(\"credit_data.csv\")\n",
    "df.head()"
   ]
  },
  {
   "cell_type": "markdown",
   "metadata": {},
   "source": [
    "# Applying the above functions\n"
   ]
  },
  {
   "cell_type": "code",
   "execution_count": 23,
   "metadata": {},
   "outputs": [],
   "source": [
    "df['education'] = df['education'].apply(education_to_numeric)\n",
    "df['gender'] = df['gender'].apply(gender_to_numeric)\n",
    "df['occupation'] = df['occupation'].apply(occupation_to_numeric)\n",
    "df['vehicle_type'] = df['vehicle_type'].apply(vehicle_to_numeric)\n",
    "df['marital_status'] = df['marital_status'].apply(marital_to_numeric)\n",
    "df['house_type'] = df['house_type'].apply(house_to_numeric)\n",
    "df['seniority'] = df['seniority'].apply(seniority_to_numeric)\n",
    "df['organization_type'] = df['organization_type'].apply(organization_to_numeric)\n",
    "df[df==np.inf]=np.nan\n",
    "df.fillna(df.mean(), inplace=True)\n",
    "y=df[\"default\"]\n",
    "X=df.loc[:, ~df.columns.isin(['default'])]"
   ]
  },
  {
   "cell_type": "markdown",
   "metadata": {},
   "source": [
    "# Using Train-Test Split for splitting the data"
   ]
  },
  {
   "cell_type": "code",
   "execution_count": 24,
   "metadata": {},
   "outputs": [],
   "source": [
    "from sklearn.model_selection import train_test_split \n",
    "  \n",
    "X_train, X_test, y_train, y_test = train_test_split(X, y, test_size = 0.2, random_state = 0)"
   ]
  },
  {
   "cell_type": "markdown",
   "metadata": {},
   "source": [
    "# Scaling the Data using StandardScaler"
   ]
  },
  {
   "cell_type": "code",
   "execution_count": 25,
   "metadata": {},
   "outputs": [
    {
     "name": "stderr",
     "output_type": "stream",
     "text": [
      "C:\\Users\\KEVIN\\Anaconda3\\lib\\site-packages\\sklearn\\preprocessing\\data.py:645: DataConversionWarning: Data with input dtype int64, float64 were all converted to float64 by StandardScaler.\n",
      "  return self.partial_fit(X, y)\n",
      "C:\\Users\\KEVIN\\Anaconda3\\lib\\site-packages\\sklearn\\base.py:464: DataConversionWarning: Data with input dtype int64, float64 were all converted to float64 by StandardScaler.\n",
      "  return self.fit(X, **fit_params).transform(X)\n",
      "C:\\Users\\KEVIN\\Anaconda3\\lib\\site-packages\\ipykernel_launcher.py:5: DataConversionWarning: Data with input dtype int64, float64 were all converted to float64 by StandardScaler.\n",
      "  \"\"\"\n"
     ]
    }
   ],
   "source": [
    "from sklearn.preprocessing import StandardScaler \n",
    "sc = StandardScaler() \n",
    "X_test = X_test.fillna(X_train.mean())\n",
    "X_train = sc.fit_transform(X_train) \n",
    "X_test = sc.transform(X_test) \n"
   ]
  },
  {
   "cell_type": "markdown",
   "metadata": {},
   "source": [
    "# Decision Tree Classification using Gini Index"
   ]
  },
  {
   "cell_type": "code",
   "execution_count": 26,
   "metadata": {},
   "outputs": [
    {
     "name": "stdout",
     "output_type": "stream",
     "text": [
      "DecisionTreeClassifier(class_weight=None, criterion='gini', max_depth=3,\n",
      "            max_features=None, max_leaf_nodes=None,\n",
      "            min_impurity_decrease=0.0, min_impurity_split=None,\n",
      "            min_samples_leaf=5, min_samples_split=2,\n",
      "            min_weight_fraction_leaf=0.0, presort=False, random_state=100,\n",
      "            splitter='best')\n"
     ]
    },
    {
     "data": {
      "text/plain": [
       "85.09083728278041"
      ]
     },
     "execution_count": 26,
     "metadata": {},
     "output_type": "execute_result"
    }
   ],
   "source": [
    "clf_gini = DecisionTreeClassifier(criterion = \"gini\", random_state = 100,max_depth=3, min_samples_leaf=5) \n",
    "clf_gini.fit(X_train, y_train) \n",
    "\n",
    "print(clf_gini)\n",
    "y_pred_gini = clf_gini.predict(X_test) \n",
    "from sklearn.metrics import accuracy_score \n",
    "accuracy_score(y_test,y_pred_gini)*100"
   ]
  },
  {
   "cell_type": "markdown",
   "metadata": {},
   "source": [
    "# Decision Tree Classifier using Entropy"
   ]
  },
  {
   "cell_type": "code",
   "execution_count": 29,
   "metadata": {},
   "outputs": [
    {
     "name": "stdout",
     "output_type": "stream",
     "text": [
      "Accuracy: 83.44\n"
     ]
    }
   ],
   "source": [
    "dtree=DecisionTreeClassifier(criterion='entropy',random_state=0\n",
    "                             ,min_samples_leaf=10\n",
    "                            ,min_samples_split=10)\n",
    "dtree.fit(X_train,y_train)\n",
    "y_pred_entropy=dtree.predict(X_test)\n",
    "y_pred_entropy\n",
    "Score_entropy=accuracy_score(y_test,y_pred_entropy)\n",
    "print(\"Accuracy: %0.2f\" % (round(Score_entropy*100,2)))"
   ]
  },
  {
   "cell_type": "code",
   "execution_count": null,
   "metadata": {},
   "outputs": [],
   "source": []
  }
 ],
 "metadata": {
  "kernelspec": {
   "display_name": "Python 3",
   "language": "python",
   "name": "python3"
  },
  "language_info": {
   "codemirror_mode": {
    "name": "ipython",
    "version": 3
   },
   "file_extension": ".py",
   "mimetype": "text/x-python",
   "name": "python",
   "nbconvert_exporter": "python",
   "pygments_lexer": "ipython3",
   "version": "3.7.3"
  }
 },
 "nbformat": 4,
 "nbformat_minor": 2
}
